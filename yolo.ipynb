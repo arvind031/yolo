{
 "cells": [
  {
   "cell_type": "code",
   "execution_count": null,
   "metadata": {},
   "outputs": [],
   "source": [
    "from google.colab import drive\n",
    "drive.mount('/content/drive')"
   ]
  },
  {
   "cell_type": "code",
   "execution_count": null,
   "metadata": {},
   "outputs": [],
   "source": [
    "cd drive/MyDrive/NMIMS/yolo"
   ]
  },
  {
   "cell_type": "code",
   "execution_count": null,
   "metadata": {},
   "outputs": [],
   "source": [
    "ls"
   ]
  },
  {
   "cell_type": "code",
   "execution_count": null,
   "metadata": {},
   "outputs": [],
   "source": [
    "import cv2\n",
    "import time\n",
    "import numpy as np\n",
    "from google.colab.patches import cv2_imshow\n",
    "\n",
    "confidence = 0.6\n",
    "Nms = 0.3\n",
    "class_names = []\n",
    "with open(\"coco.names\", \"r\") as f:\n",
    "    class_names = [cname.strip() for cname in f.readlines()]\n",
    "\n",
    "# Find the index for the \"person\" class\n",
    "person_class_index = class_names.index(\"person\")\n",
    "\n",
    "img = cv2.imread(\"image.jpg\")\n",
    "arc = cv2.dnn.readNet(\"yolov4.weights\", \"yolov4.cfg\")\n",
    "arc.setPreferableBackend(cv2.dnn.DNN_BACKEND_CUDA)\n",
    "arc.setPreferableTarget(cv2.dnn.DNN_TARGET_CUDA_FP16)\n",
    "model = cv2.dnn_DetectionModel(arc)\n",
    "model.setInputParams(size=(640, 640), scale=1 / 255, swapRB=True)\n",
    "x = time.time()\n",
    "classes, scores, boxes = model.detect(img, confidence, Nms)\n",
    "y = time.time()\n",
    "fps = 1 / (y - x)\n",
    "\n",
    "for (classid, score, box) in zip(classes, scores, boxes):\n",
    "    if isinstance(classid, (list, np.ndarray)):\n",
    "        classid_value = classid[0]\n",
    "    else:\n",
    "        classid_value = classid\n",
    "\n",
    "    if classid_value == person_class_index:\n",
    "        label = \"Person : %.2f\" % score\n",
    "        cv2.rectangle(img, box, color=(255, 200, 10), thickness=2)\n",
    "        cv2.putText(img, label, (box[0], box[1] - 10), cv2.FONT_HERSHEY_SIMPLEX, 0.6, (25, 55, 255), 2)\n",
    "        cv2.putText(img, \"FPS:{0:.2f}\".format(fps), (20, 25), cv2.FONT_HERSHEY_PLAIN, fontScale=2, color=(255, 0, 0), thickness=2)\n",
    "\n",
    "cv2_imshow(img)\n"
   ]
  }
 ],
 "metadata": {
  "language_info": {
   "name": "python"
  },
  "orig_nbformat": 4
 },
 "nbformat": 4,
 "nbformat_minor": 2
}
